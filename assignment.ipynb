{
 "cells": [
  {
   "cell_type": "markdown",
   "metadata": {
    "colab_type": "text",
    "id": "7SXpaKwwGe5x"
   },
   "source": [
    "# TM10007 Assignment template"
   ]
  },
  {
   "cell_type": "code",
   "execution_count": 17,
   "metadata": {
    "colab": {
     "base_uri": "https://localhost:8080/",
     "height": 69
    },
    "colab_type": "code",
    "id": "CiDn2Sk-VWqE",
    "outputId": "64224cd2-6054-4b04-a3f6-af8290400dfc"
   },
   "outputs": [],
   "source": [
    "# Run this to use from colab environment\n",
    "#!pip install -q --upgrade git+https://github.com/karinvangarderen/tm10007_project.git"
   ]
  },
  {
   "cell_type": "markdown",
   "metadata": {},
   "source": [
    "## Data loading and cleaning\n",
    "\n",
    "Below are functions to load the dataset of your choice. After that, it is all up to you to create and evaluate a classification method. Beware, there may be missing values in these datasets. Good luck!"
   ]
  },
  {
   "cell_type": "code",
   "execution_count": 3,
   "metadata": {
    "colab": {},
    "colab_type": "code",
    "id": "-NE_fTbKGe5z"
   },
   "outputs": [
    {
     "output_type": "stream",
     "name": "stdout",
     "text": [
      "The number of samples: 167\nThe number of columns: 725\n"
     ]
    }
   ],
   "source": [
    "# Data loading functions. Uncomment the one you want to use\n",
    "#from adni.load_data import load_data\n",
    "from brats.load_data import load_data\n",
    "#from hn.load_data import load_data\n",
    "#from ecg.load_data import load_data\n",
    "\n",
    "data = load_data()\n",
    "print(f'The number of samples: {len(data.index)}')\n",
    "print(f'The number of columns: {len(data.columns)}')\n",
    "\n"
   ]
  },
  {
   "cell_type": "code",
   "execution_count": 5,
   "metadata": {},
   "outputs": [
    {
     "output_type": "stream",
     "name": "stdout",
     "text": [
      "The number of samples: 167\nThe number of columns: 705\nThe number of samples: 167\nThe number of columns: 705\n"
     ]
    }
   ],
   "source": [
    "remove_features = data.T[data.isna().sum(axis=0) < 130]\n",
    "removed_features = remove_features.T\n",
    "print(f'The number of samples: {len(removed_features)}')\n",
    "print(f'The number of columns: {len(removed_features.columns)}')\n",
    "\n",
    "remove_patients= removed_features[removed_features.isna().sum(axis=1) < 400]\n",
    "print(f'The number of samples: {len(remove_patients)}')\n",
    "print(f'The number of columns: {len(remove_patients.columns)}')"
   ]
  },
  {
   "cell_type": "code",
   "execution_count": 6,
   "metadata": {},
   "outputs": [
    {
     "output_type": "stream",
     "name": "stdout",
     "text": [
      "VOLUME_ET      2.024202e+04\nVOLUME_NET     3.156747e+04\nVOLUME_ED      5.985773e+04\nVOLUME_TC      5.180949e+04\nVOLUME_WT      1.116672e+05\n                   ...     \nTGM_dw         1.282193e-07\nTGM_Cog_X_1    1.207576e-01\nTGM_Cog_Y_1    1.135867e-01\nTGM_Cog_Z_1    8.804531e-02\nTGM_T_1        1.857710e+02\nLength: 702, dtype: float64\n"
     ]
    }
   ],
   "source": [
    "print(remove_patients.mean(axis = 0))"
   ]
  },
  {
   "cell_type": "code",
   "execution_count": 8,
   "metadata": {},
   "outputs": [],
   "source": [
    "import numpy as np\n",
    "removed = remove_patients.replace(np.NaN, remove_patients.mean(axis = 0))"
   ]
  },
  {
   "cell_type": "code",
   "execution_count": null,
   "metadata": {},
   "outputs": [],
   "source": []
  }
 ],
 "metadata": {
  "colab": {
   "collapsed_sections": [],
   "name": "assignment.ipynb",
   "provenance": []
  },
  "kernelspec": {
   "display_name": "Python 3",
   "language": "python",
   "name": "python3"
  },
  "language_info": {
   "codemirror_mode": {
    "name": "ipython",
    "version": 3
   },
   "file_extension": ".py",
   "mimetype": "text/x-python",
   "name": "python",
   "nbconvert_exporter": "python",
   "pygments_lexer": "ipython3",
   "version": "3.8.5-final"
  }
 },
 "nbformat": 4,
 "nbformat_minor": 1
}